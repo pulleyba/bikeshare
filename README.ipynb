{
 "cells": [
  {
   "cell_type": "markdown",
   "metadata": {},
   "source": [
    "# Bike Share Project\n",
    "## by Brice Pulley\n",
    "\n",
    "### Introduction\n",
    "> This project explored bike share data for three major U.S. cities (Chicago, New York, and Washington D.C.) using Python code. Code is used to import data and answer questions using descriptive statistics. Script is written to accept raw input from the user for an interactive experience in the terminal. \n",
    "\n",
    "### Dataset\n",
    "\n",
    "> This data is provided by `Motivate`, which is a bike share provider in major cities. The data covers the first 6 months of 2017 for the three major cities. There are six core columns:\n",
    "    * Start Time (2017-01-01 00:07:57)\n",
    "    * End Time (2017-01-01 00:20:53)\n",
    "    * Trip Duration (in seconds, 776)\n",
    "    * Start Station (Broadway & Barry)\n",
    "    * End Station (Sedgwick St & North Ave)\n",
    "    * User Type (Subscriber or Customer)\n",
    "> There is also 2 additional columns for Chicago and New York:\n",
    "    * Gender (Female or Male)\n",
    "    * Birth Year (2000.0)\n",
    "    \n",
    "### Statistics Computed\n",
    "\n",
    "> #1 Popular times of travel (i.e., occurs most often in the start time)\n",
    "\n",
    "  * most common month\n",
    "  * most common day of week\n",
    "  * most common hour of day\n",
    "\n",
    "> #2 Popular stations and trip\n",
    "\n",
    "* most common start station\n",
    "* most common end station\n",
    "* most common trip from start to end (i.e., most frequent combination of start station and end station)\n",
    "\n",
    "> #3 Trip duration\n",
    "\n",
    "* total travel time\n",
    "* mean travel time\n",
    "\n",
    "> #4 User info\n",
    "\n",
    "* count of each user type\n",
    "* count of each gender (only available for NYC and Chicago)\n",
    "* earliest, most recent, most common year of birth (only available for NYC and Chicago)\n",
    "\n",
    "### Software Required\n",
    "> Standard installion of anaconda 3 for data science.\n",
    "* Python 3.7.3\n",
    "* Pandas 0.24.2"
   ]
  },
  {
   "cell_type": "code",
   "execution_count": null,
   "metadata": {},
   "outputs": [],
   "source": []
  }
 ],
 "metadata": {
  "kernelspec": {
   "display_name": "Python 3",
   "language": "python",
   "name": "python3"
  },
  "language_info": {
   "codemirror_mode": {
    "name": "ipython",
    "version": 3
   },
   "file_extension": ".py",
   "mimetype": "text/x-python",
   "name": "python",
   "nbconvert_exporter": "python",
   "pygments_lexer": "ipython3",
   "version": "3.7.3"
  }
 },
 "nbformat": 4,
 "nbformat_minor": 2
}
